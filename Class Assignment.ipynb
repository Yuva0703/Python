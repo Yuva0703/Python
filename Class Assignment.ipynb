{
 "cells": [
  {
   "cell_type": "code",
   "execution_count": 7,
   "id": "7a51f267-343d-49d0-829a-d14420411399",
   "metadata": {},
   "outputs": [],
   "source": [
    "class SubfieldsInAI():\n",
    "    def SubFieldsInAIF():\n",
    "        subFields=('Machine Learning','Neural Networks','Vision','Robotics','Speech Processing','Natural Language Processing')\n",
    "        for items in subFields:\n",
    "            print(items)"
   ]
  },
  {
   "cell_type": "code",
   "execution_count": 9,
   "id": "b7ce5b00-6579-4043-9146-f6639e668669",
   "metadata": {},
   "outputs": [
    {
     "name": "stdout",
     "output_type": "stream",
     "text": [
      "Machine Learning\n",
      "Neural Networks\n",
      "Vision\n",
      "Robotics\n",
      "Speech Processing\n",
      "Natural Language Processing\n"
     ]
    }
   ],
   "source": [
    "SubfieldsInAI.SubFieldsInAIF()"
   ]
  },
  {
   "cell_type": "code",
   "execution_count": 10,
   "id": "05666cbd-0e0c-4969-9c8a-563191501ea5",
   "metadata": {},
   "outputs": [],
   "source": [
    "class OddEven():\n",
    "    def CheckEvenorOdd():\n",
    "        Num=int(input())\n",
    "        if(Num%2==0):\n",
    "            print(\"Even\")\n",
    "        else:\n",
    "            print(\"Odd\")\n",
    "    "
   ]
  },
  {
   "cell_type": "code",
   "execution_count": 12,
   "id": "2837ced2-9aff-4351-a46f-fe0ca14b7a4f",
   "metadata": {},
   "outputs": [
    {
     "name": "stdin",
     "output_type": "stream",
     "text": [
      " 54542\n"
     ]
    },
    {
     "name": "stdout",
     "output_type": "stream",
     "text": [
      "Even\n"
     ]
    }
   ],
   "source": [
    "OddEven.CheckEvenorOdd()"
   ]
  },
  {
   "cell_type": "code",
   "execution_count": 14,
   "id": "c4c023e1-8514-442c-bce3-56851f7b8b4c",
   "metadata": {},
   "outputs": [],
   "source": [
    "class CheckEligibility():\n",
    "    def check_marriage_eligibility():\n",
    "        age=int(input())\n",
    "        gender=input()\n",
    "        if gender.lower() == \"male\":\n",
    "            if age >= 21:\n",
    "                return \"Eligible for marriage.\"\n",
    "            else:\n",
    "                return \"Not eligible for marriage. Minimum age is 21.\"\n",
    "        elif gender.lower() == \"female\":\n",
    "            if age >= 18:\n",
    "                return \"Eligible for marriage.\"\n",
    "            else:\n",
    "                return \"Not eligible for marriage. Minimum age is 18.\""
   ]
  },
  {
   "cell_type": "code",
   "execution_count": 16,
   "id": "bd968638-c11e-4522-a9e9-22226d8047f9",
   "metadata": {},
   "outputs": [
    {
     "name": "stdin",
     "output_type": "stream",
     "text": [
      " 30\n",
      " Male\n"
     ]
    },
    {
     "data": {
      "text/plain": [
       "'Eligible for marriage.'"
      ]
     },
     "execution_count": 16,
     "metadata": {},
     "output_type": "execute_result"
    }
   ],
   "source": [
    "CheckEligibility.check_marriage_eligibility()"
   ]
  },
  {
   "cell_type": "code",
   "execution_count": 17,
   "id": "a1e0d243-ee94-4f43-8f48-a8e8c6df570d",
   "metadata": {},
   "outputs": [],
   "source": [
    "class percentage():\n",
    "    def calculate_percentage():\n",
    "        Sub1=int(input())\n",
    "        Sub2=int(input())\n",
    "        Sub3=int(input())\n",
    "        Sub4=int(input())\n",
    "        Sub5=int(input())\n",
    "        obtained_marks=int(input())\n",
    "        total_marks=(500)\n",
    "        percentage=(obtained_marks / total_marks) * 100\n",
    "        print(percentage)\n",
    "    "
   ]
  },
  {
   "cell_type": "code",
   "execution_count": 19,
   "id": "db29bad8-658e-4c4a-967b-0e7eb7589921",
   "metadata": {},
   "outputs": [
    {
     "name": "stdin",
     "output_type": "stream",
     "text": [
      " 100\n",
      " 90\n",
      " 90\n",
      " 100\n",
      " 10\n",
      " 390\n"
     ]
    },
    {
     "name": "stdout",
     "output_type": "stream",
     "text": [
      "78.0\n"
     ]
    }
   ],
   "source": [
    "percentage.calculate_percentage()"
   ]
  },
  {
   "cell_type": "code",
   "execution_count": null,
   "id": "b066a540-ff0f-4b8e-84db-732e1a1ec113",
   "metadata": {},
   "outputs": [],
   "source": []
  }
 ],
 "metadata": {
  "kernelspec": {
   "display_name": "Python 3 (ipykernel)",
   "language": "python",
   "name": "python3"
  },
  "language_info": {
   "codemirror_mode": {
    "name": "ipython",
    "version": 3
   },
   "file_extension": ".py",
   "mimetype": "text/x-python",
   "name": "python",
   "nbconvert_exporter": "python",
   "pygments_lexer": "ipython3",
   "version": "3.12.7"
  }
 },
 "nbformat": 4,
 "nbformat_minor": 5
}
