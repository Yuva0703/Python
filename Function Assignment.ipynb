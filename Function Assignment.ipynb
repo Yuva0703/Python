{
 "cells": [
  {
   "cell_type": "code",
   "execution_count": null,
   "id": "5993a850-d701-4e4f-abdd-5724cc8f6af9",
   "metadata": {},
   "outputs": [],
   "source": [
    "def SubFieldsInAI():\n",
    "    subFields=('Machine Learning','Neural Networks','Vision','Robotics','Speech Processing','Natural Language Processing')\n",
    "    for items in subFields:\n",
    "        print(items)"
   ]
  },
  {
   "cell_type": "code",
   "execution_count": null,
   "id": "b0e37f41-0233-415c-80a6-856004462c44",
   "metadata": {},
   "outputs": [],
   "source": [
    "SubFieldsInAI()"
   ]
  },
  {
   "cell_type": "code",
   "execution_count": null,
   "id": "54ab9fe5-6ceb-42df-babc-94b62c89595b",
   "metadata": {},
   "outputs": [],
   "source": [
    "def CheckEvenorOdd():\n",
    "    Num=int(input())\n",
    "    if(Num%2==0):\n",
    "        print(\"Even\")\n",
    "    else:\n",
    "        print(\"Odd\")\n",
    "    "
   ]
  },
  {
   "cell_type": "code",
   "execution_count": null,
   "id": "e46de3b5-8603-4e2d-8f52-4704e63e6f8e",
   "metadata": {},
   "outputs": [],
   "source": [
    "CheckEvenorOdd()"
   ]
  },
  {
   "cell_type": "code",
   "execution_count": null,
   "id": "cc293294-6cf9-400c-9696-9660db4a6fcb",
   "metadata": {},
   "outputs": [],
   "source": [
    "def check_marriage_eligibility():\n",
    "    age=int(input())\n",
    "    gender=input()\n",
    "    if gender.lower() == \"male\":\n",
    "        if age >= 21:\n",
    "            return \"Eligible for marriage.\"\n",
    "        else:\n",
    "            return \"Not eligible for marriage. Minimum age is 21.\"\n",
    "    elif gender.lower() == \"female\":\n",
    "        if age >= 18:\n",
    "            return \"Eligible for marriage.\"\n",
    "        else:\n",
    "            return \"Not eligible for marriage. Minimum age is 18.\""
   ]
  },
  {
   "cell_type": "code",
   "execution_count": null,
   "id": "ab069046-75e1-4de3-b560-70e3860b8745",
   "metadata": {},
   "outputs": [],
   "source": [
    "check_marriage_eligibility()"
   ]
  },
  {
   "cell_type": "code",
   "execution_count": 1,
   "id": "1dd27fc7-8231-4334-a600-0b5a02630aea",
   "metadata": {},
   "outputs": [],
   "source": [
    "def calculate_percentage():\n",
    "    Sub1=int(input())\n",
    "    Sub2=int(input())\n",
    "    Sub3=int(input())\n",
    "    Sub4=int(input())\n",
    "    Sub5=int(input())\n",
    "    obtained_marks=int(input())\n",
    "    total_marks=(500)\n",
    "    percentage=(obtained_marks / total_marks) * 100\n",
    "    print(percentage)\n",
    "    "
   ]
  },
  {
   "cell_type": "code",
   "execution_count": 2,
   "id": "b335f314-fa42-4b81-b795-dcfd4f45c714",
   "metadata": {},
   "outputs": [
    {
     "name": "stdin",
     "output_type": "stream",
     "text": [
      " 100\n",
      " 100\n",
      " 100\n",
      " 100\n",
      " 100\n",
      " 500\n"
     ]
    },
    {
     "name": "stdout",
     "output_type": "stream",
     "text": [
      "100.0\n"
     ]
    }
   ],
   "source": [
    "calculate_percentage()"
   ]
  },
  {
   "cell_type": "code",
   "execution_count": null,
   "id": "2c00dc8e-bd3a-4205-ad42-06c609f8e9b9",
   "metadata": {},
   "outputs": [],
   "source": [
    "90"
   ]
  }
 ],
 "metadata": {
  "kernelspec": {
   "display_name": "Python 3 (ipykernel)",
   "language": "python",
   "name": "python3"
  },
  "language_info": {
   "codemirror_mode": {
    "name": "ipython",
    "version": 3
   },
   "file_extension": ".py",
   "mimetype": "text/x-python",
   "name": "python",
   "nbconvert_exporter": "python",
   "pygments_lexer": "ipython3",
   "version": "3.12.7"
  }
 },
 "nbformat": 4,
 "nbformat_minor": 5
}
