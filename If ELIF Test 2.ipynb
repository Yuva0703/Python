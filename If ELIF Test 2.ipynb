{
 "cells": [
  {
   "cell_type": "code",
   "execution_count": 1,
   "id": "a0b14c4c-e839-493f-b22d-4a7b8b1e8c28",
   "metadata": {},
   "outputs": [
    {
     "name": "stdin",
     "output_type": "stream",
     "text": [
      " 34\n"
     ]
    },
    {
     "name": "stdout",
     "output_type": "stream",
     "text": [
      "Fail\n"
     ]
    }
   ],
   "source": [
    "Mark=int(input())\n",
    "if(Mark<35):\n",
    "    print(\"Fail\")\n",
    "elif(Mark>50):\n",
    "    print(\"Average\")\n",
    "elif(Mark>90):\n",
    "    print(\"Excellent\")"
   ]
  },
  {
   "cell_type": "code",
   "execution_count": 2,
   "id": "bfdd9365-dfe8-41ba-9522-ac51da121af8",
   "metadata": {},
   "outputs": [
    {
     "name": "stdin",
     "output_type": "stream",
     "text": [
      " 51\n"
     ]
    },
    {
     "name": "stdout",
     "output_type": "stream",
     "text": [
      "Average\n"
     ]
    }
   ],
   "source": [
    "Mark=int(input())\n",
    "if(Mark<35):\n",
    "    print(\"Fail\")\n",
    "elif(Mark>50):\n",
    "    print(\"Average\")\n",
    "elif(Mark>90):\n",
    "    print(\"Excellent\")"
   ]
  },
  {
   "cell_type": "code",
   "execution_count": 5,
   "id": "a020c1b8-ff7e-4c4e-9af8-ab9d8f2e2082",
   "metadata": {},
   "outputs": [
    {
     "name": "stdin",
     "output_type": "stream",
     "text": [
      " 99\n"
     ]
    },
    {
     "name": "stdout",
     "output_type": "stream",
     "text": [
      "Excellent\n"
     ]
    }
   ],
   "source": [
    "Mark=int(input())\n",
    "if(Mark<35):\n",
    "    print(\"Fail\")\n",
    "elif(Mark<50):\n",
    "    print(\"Average\")\n",
    "elif(Mark>90):\n",
    "    print(\"Excellent\")"
   ]
  },
  {
   "cell_type": "code",
   "execution_count": null,
   "id": "1da6eb00-a046-491b-88d1-a81fbb83ae80",
   "metadata": {},
   "outputs": [],
   "source": []
  }
 ],
 "metadata": {
  "kernelspec": {
   "display_name": "Python 3 (ipykernel)",
   "language": "python",
   "name": "python3"
  },
  "language_info": {
   "codemirror_mode": {
    "name": "ipython",
    "version": 3
   },
   "file_extension": ".py",
   "mimetype": "text/x-python",
   "name": "python",
   "nbconvert_exporter": "python",
   "pygments_lexer": "ipython3",
   "version": "3.12.7"
  }
 },
 "nbformat": 4,
 "nbformat_minor": 5
}
