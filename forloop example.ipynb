{
 "cells": [
  {
   "cell_type": "code",
   "execution_count": 4,
   "id": "65afa43e-aeeb-4565-8dde-ef54ccf78c11",
   "metadata": {},
   "outputs": [
    {
     "name": "stdout",
     "output_type": "stream",
     "text": [
      "Slim\n",
      "Medium\n",
      "Fat\n"
     ]
    }
   ],
   "source": [
    "Lists=[30,50,100]\n",
    "for weight in Lists:\n",
    "    if(weight<40):\n",
    "        print(\"Slim\")\n",
    "    elif(weight<60):\n",
    "        print(\"Medium\")\n",
    "    elif(weight>90):\n",
    "        print(\"Fat\")"
   ]
  },
  {
   "cell_type": "code",
   "execution_count": null,
   "id": "f0a90839-93e0-4839-821e-1b08baa7fb73",
   "metadata": {},
   "outputs": [],
   "source": []
  },
  {
   "cell_type": "code",
   "execution_count": null,
   "id": "19748c7e-d4ee-49f7-884e-4de9b1370889",
   "metadata": {},
   "outputs": [],
   "source": []
  }
 ],
 "metadata": {
  "kernelspec": {
   "display_name": "Python 3 (ipykernel)",
   "language": "python",
   "name": "python3"
  },
  "language_info": {
   "codemirror_mode": {
    "name": "ipython",
    "version": 3
   },
   "file_extension": ".py",
   "mimetype": "text/x-python",
   "name": "python",
   "nbconvert_exporter": "python",
   "pygments_lexer": "ipython3",
   "version": "3.12.7"
  }
 },
 "nbformat": 4,
 "nbformat_minor": 5
}
