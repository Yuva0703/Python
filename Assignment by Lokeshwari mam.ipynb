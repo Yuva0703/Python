{
 "cells": [
  {
   "cell_type": "code",
   "execution_count": 4,
   "id": "88071be3-b017-4d1a-919e-08300a647850",
   "metadata": {},
   "outputs": [],
   "source": [
    "Message=('Welcome to Python')\n",
    "def Welcoming():\n",
    "    return(Message)"
   ]
  },
  {
   "cell_type": "code",
   "execution_count": 5,
   "id": "082637a6-8086-4c82-8262-77d7502e6a3f",
   "metadata": {},
   "outputs": [
    {
     "data": {
      "text/plain": [
       "'Welcome to Python'"
      ]
     },
     "execution_count": 5,
     "metadata": {},
     "output_type": "execute_result"
    }
   ],
   "source": [
    "Welcoming()"
   ]
  },
  {
   "cell_type": "code",
   "execution_count": 6,
   "id": "514e5279-7c1c-4b40-8264-b85c6e0b41fa",
   "metadata": {},
   "outputs": [
    {
     "name": "stdin",
     "output_type": "stream",
     "text": [
      " 35\n"
     ]
    }
   ],
   "source": [
    "Num=int(input())\n",
    "def findevenorodd():\n",
    "    if(Num%2==0):\n",
    "        return(\"Even\")\n",
    "    else:\n",
    "        return(\"Odd\")"
   ]
  },
  {
   "cell_type": "code",
   "execution_count": 7,
   "id": "b690a260-4097-4e47-8296-f90619fe0a67",
   "metadata": {},
   "outputs": [
    {
     "data": {
      "text/plain": [
       "'Odd'"
      ]
     },
     "execution_count": 7,
     "metadata": {},
     "output_type": "execute_result"
    }
   ],
   "source": [
    "findevenorodd()"
   ]
  },
  {
   "cell_type": "code",
   "execution_count": 11,
   "id": "7ea29912-1fc5-48d4-8035-690391cc78c7",
   "metadata": {},
   "outputs": [
    {
     "name": "stdin",
     "output_type": "stream",
     "text": [
      " 30\n"
     ]
    }
   ],
   "source": [
    "Num=int(input())\n",
    "def findpositiveornegative():\n",
    "    if(Num<0):\n",
    "        return('Negative')\n",
    "    elif(Num>0):\n",
    "        return('positive')\n",
    "    else:\n",
    "        return('Invalid')\n",
    "        "
   ]
  },
  {
   "cell_type": "code",
   "execution_count": 12,
   "id": "6a3c40aa-04b5-4840-9976-bacf06c7abbf",
   "metadata": {},
   "outputs": [
    {
     "data": {
      "text/plain": [
       "'positive'"
      ]
     },
     "execution_count": 12,
     "metadata": {},
     "output_type": "execute_result"
    }
   ],
   "source": [
    "findpositiveornegative()"
   ]
  },
  {
   "cell_type": "code",
   "execution_count": 13,
   "id": "66000ac0-e9a3-44b2-9a7d-70751277cb87",
   "metadata": {},
   "outputs": [],
   "source": [
    "Num1=10\n",
    "Num2=10\n",
    "def addition():\n",
    "    add=Num1+Num2\n",
    "    return(add)"
   ]
  },
  {
   "cell_type": "code",
   "execution_count": 14,
   "id": "9a1c45be-5ef0-4aff-bb3d-1af5945336de",
   "metadata": {},
   "outputs": [
    {
     "data": {
      "text/plain": [
       "20"
      ]
     },
     "execution_count": 14,
     "metadata": {},
     "output_type": "execute_result"
    }
   ],
   "source": [
    "addition()"
   ]
  },
  {
   "cell_type": "code",
   "execution_count": 19,
   "id": "680b344b-9f5f-44fc-a56d-f98be414dffb",
   "metadata": {},
   "outputs": [
    {
     "name": "stdin",
     "output_type": "stream",
     "text": [
      "Enter the Number: 1\n"
     ]
    }
   ],
   "source": [
    "num=int(input(\"Enter the Number:\"))\n",
    "def findanumber():\n",
    "    if(num==1):\n",
    "        print(\"Yes\")\n",
    "    else:\n",
    "        print(\"Invalid\")"
   ]
  },
  {
   "cell_type": "code",
   "execution_count": 20,
   "id": "7011adc5-c0ef-4b22-8e5d-b92cdfe4665e",
   "metadata": {},
   "outputs": [
    {
     "name": "stdout",
     "output_type": "stream",
     "text": [
      "Yes\n"
     ]
    }
   ],
   "source": [
    "findanumber()\n"
   ]
  },
  {
   "cell_type": "code",
   "execution_count": null,
   "id": "7ada2d5c-3f83-450c-8abb-7c5fc5ec1b78",
   "metadata": {},
   "outputs": [],
   "source": []
  }
 ],
 "metadata": {
  "kernelspec": {
   "display_name": "Python 3 (ipykernel)",
   "language": "python",
   "name": "python3"
  },
  "language_info": {
   "codemirror_mode": {
    "name": "ipython",
    "version": 3
   },
   "file_extension": ".py",
   "mimetype": "text/x-python",
   "name": "python",
   "nbconvert_exporter": "python",
   "pygments_lexer": "ipython3",
   "version": "3.12.7"
  }
 },
 "nbformat": 4,
 "nbformat_minor": 5
}
