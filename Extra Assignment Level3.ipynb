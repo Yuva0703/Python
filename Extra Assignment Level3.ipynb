{
 "cells": [
  {
   "cell_type": "code",
   "execution_count": 7,
   "id": "afc1bfac-963e-4053-82d8-c9a0e0ababe5",
   "metadata": {},
   "outputs": [
    {
     "name": "stdin",
     "output_type": "stream",
     "text": [
      " 10\n"
     ]
    },
    {
     "name": "stdout",
     "output_type": "stream",
     "text": [
      "CORRECT\n"
     ]
    }
   ],
   "source": [
    "i=int(input())\n",
    "if(i==10):\n",
    "    print(\"CORRECT\")"
   ]
  },
  {
   "cell_type": "code",
   "execution_count": 24,
   "id": "f83065d1-75dd-400e-a84b-dbf11159399e",
   "metadata": {},
   "outputs": [
    {
     "name": "stdin",
     "output_type": "stream",
     "text": [
      "Enter Your Password: HOPE@123\n"
     ]
    },
    {
     "name": "stdout",
     "output_type": "stream",
     "text": [
      "Your Password is Correct\n"
     ]
    }
   ],
   "source": [
    "Password=(\"HOPE@123\")\n",
    "MyPassword=input(\"Enter Your Password:\")\n",
    "if(MyPassword==Password):\n",
    "    print(\"Your Password is Correct\")\n",
    "else:\n",
    "    print(\"Your Password is Incorrect\")"
   ]
  },
  {
   "cell_type": "code",
   "execution_count": 26,
   "id": "d1b73f5c-495a-4287-9713-0a8b1e7f5093",
   "metadata": {},
   "outputs": [
    {
     "name": "stdin",
     "output_type": "stream",
     "text": [
      "Enter your Age: 20\n"
     ]
    },
    {
     "name": "stdout",
     "output_type": "stream",
     "text": [
      "Adult\n"
     ]
    }
   ],
   "source": [
    "Age=int(input(\"Enter your Age:\"))\n",
    "if(Age<15):\n",
    "    print(\"Children\")\n",
    "elif(Age>19):\n",
    "    print(\"Adult\")"
   ]
  },
  {
   "cell_type": "code",
   "execution_count": 28,
   "id": "62883291-dbfc-4f7c-bfc2-b26b6eda240d",
   "metadata": {},
   "outputs": [
    {
     "name": "stdin",
     "output_type": "stream",
     "text": [
      "Enter Your Number: 1\n"
     ]
    },
    {
     "name": "stdout",
     "output_type": "stream",
     "text": [
      "No is Positive\n"
     ]
    }
   ],
   "source": [
    "Number=int(input(\"Enter Your Number:\"))\n",
    "if(Number%2==0):\n",
    "    print(\"Negative\")\n",
    "else:\n",
    "    print(\"No is Positive\")"
   ]
  },
  {
   "cell_type": "code",
   "execution_count": 29,
   "id": "958ce0ae-c048-4f60-9b31-6b5b6036d517",
   "metadata": {},
   "outputs": [
    {
     "name": "stdin",
     "output_type": "stream",
     "text": [
      " 22\n"
     ]
    },
    {
     "name": "stdout",
     "output_type": "stream",
     "text": [
      "No is not Divisible by 5\n"
     ]
    }
   ],
   "source": [
    "Number=int(input())\n",
    "if(Number%5==0):\n",
    "    print(\"No is Divisible by 5\")\n",
    "else:\n",
    "    print(\"No is not Divisible by 5\")"
   ]
  },
  {
   "cell_type": "code",
   "execution_count": null,
   "id": "743fcf9c-e858-4896-bedc-b0bbda8c2255",
   "metadata": {},
   "outputs": [],
   "source": []
  }
 ],
 "metadata": {
  "kernelspec": {
   "display_name": "Python 3 (ipykernel)",
   "language": "python",
   "name": "python3"
  },
  "language_info": {
   "codemirror_mode": {
    "name": "ipython",
    "version": 3
   },
   "file_extension": ".py",
   "mimetype": "text/x-python",
   "name": "python",
   "nbconvert_exporter": "python",
   "pygments_lexer": "ipython3",
   "version": "3.12.7"
  }
 },
 "nbformat": 4,
 "nbformat_minor": 5
}
