{
 "cells": [
  {
   "cell_type": "code",
   "execution_count": null,
   "id": "67386240-1eb2-4178-8b72-ea1e910fe18a",
   "metadata": {},
   "outputs": [],
   "source": [
    "for i in range(0,20):\n",
    "    print(i)"
   ]
  },
  {
   "cell_type": "code",
   "execution_count": null,
   "id": "fa6efd20-c145-400d-ba8f-83393e94cdfa",
   "metadata": {},
   "outputs": [],
   "source": [
    "for i in range(10,20):\n",
    "    print(i)"
   ]
  },
  {
   "cell_type": "code",
   "execution_count": null,
   "id": "f1dce4ac-271a-4c52-9b4e-047d8d1c1300",
   "metadata": {},
   "outputs": [],
   "source": [
    "Lists=[10,20,14,55,43,87,76]\n",
    "print(len(Lists))"
   ]
  },
  {
   "cell_type": "code",
   "execution_count": null,
   "id": "c1a123c0-d4eb-4461-84db-9c0a323a01b5",
   "metadata": {},
   "outputs": [],
   "source": [
    "Name=input()\n",
    "for i in Name:\n",
    "    print(i)"
   ]
  },
  {
   "cell_type": "code",
   "execution_count": null,
   "id": "92993769-2d73-4311-90f6-972b3ccb2ae3",
   "metadata": {},
   "outputs": [],
   "source": [
    "Name=input()\n",
    "Age=input()\n",
    "Profession=input()\n",
    "print(Name)\n",
    "print(Age)\n",
    "print(Profession)"
   ]
  },
  {
   "cell_type": "code",
   "execution_count": null,
   "id": "2a22ce56-412a-496d-b86e-cea66371a454",
   "metadata": {},
   "outputs": [],
   "source": [
    "Tuple=(1,'Welcome', 2,'Hope')\n",
    "print(Tuple)"
   ]
  },
  {
   "cell_type": "code",
   "execution_count": 1,
   "id": "ff44bc62-90d8-4c09-9f34-cc9cc5321d77",
   "metadata": {},
   "outputs": [
    {
     "name": "stdout",
     "output_type": "stream",
     "text": [
      "19 is Odd\n",
      "25 is Odd\n",
      "1 is Odd\n"
     ]
    }
   ],
   "source": [
    "Lists=[20,10,16,19,25,1,276,188]\n",
    "for i in Lists:\n",
    "    if(i%2==1):\n",
    "       print(i,\"is Odd\")"
   ]
  },
  {
   "cell_type": "code",
   "execution_count": 2,
   "id": "a99c4abc-2b19-4730-acb0-9cdfa6d3ed4d",
   "metadata": {},
   "outputs": [
    {
     "name": "stdout",
     "output_type": "stream",
     "text": [
      "20 is Even\n",
      "10 is Even\n",
      "16 is Even\n",
      "276 is Even\n",
      "188 is Even\n"
     ]
    }
   ],
   "source": [
    "Lists=[20,10,16,19,25,1,276,188]\n",
    "for i in Lists:\n",
    "    if(i%2==0):\n",
    "       print(i,\"is Even\")"
   ]
  },
  {
   "cell_type": "code",
   "execution_count": null,
   "id": "668c01ff-1fd9-406b-a8b1-7dfb6a8a4135",
   "metadata": {},
   "outputs": [],
   "source": []
  }
 ],
 "metadata": {
  "kernelspec": {
   "display_name": "Python 3 (ipykernel)",
   "language": "python",
   "name": "python3"
  },
  "language_info": {
   "codemirror_mode": {
    "name": "ipython",
    "version": 3
   },
   "file_extension": ".py",
   "mimetype": "text/x-python",
   "name": "python",
   "nbconvert_exporter": "python",
   "pygments_lexer": "ipython3",
   "version": "3.12.7"
  }
 },
 "nbformat": 4,
 "nbformat_minor": 5
}
