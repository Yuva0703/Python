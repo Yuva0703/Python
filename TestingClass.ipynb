{
 "cells": [
  {
   "cell_type": "code",
   "execution_count": 3,
   "id": "5b282923-efb0-4cea-b27e-fc4e2cbac676",
   "metadata": {},
   "outputs": [],
   "source": [
    "from multiplefunctions import SubfieldsInAI"
   ]
  },
  {
   "cell_type": "code",
   "execution_count": 5,
   "id": "b51b7085-72d0-410c-b508-eeff8f6c5bb0",
   "metadata": {},
   "outputs": [
    {
     "name": "stdout",
     "output_type": "stream",
     "text": [
      "Machine Learning\n",
      "Neural Networks\n",
      "Vision\n",
      "Robotics\n",
      "Speech Processing\n",
      "Natural Language Processing\n"
     ]
    }
   ],
   "source": [
    "SubfieldsInAI.SubFieldsInAIF()"
   ]
  },
  {
   "cell_type": "code",
   "execution_count": 6,
   "id": "659a4bb4-c3b9-49b7-8e40-ebf1969a5c83",
   "metadata": {},
   "outputs": [],
   "source": [
    "from multiplefunctions import OddEven"
   ]
  },
  {
   "cell_type": "code",
   "execution_count": 7,
   "id": "ecb84153-3b79-4a3e-813d-72ff7444afaf",
   "metadata": {},
   "outputs": [
    {
     "name": "stdin",
     "output_type": "stream",
     "text": [
      " 54542\n"
     ]
    },
    {
     "name": "stdout",
     "output_type": "stream",
     "text": [
      "Even\n"
     ]
    }
   ],
   "source": [
    "OddEven.CheckEvenorOdd()"
   ]
  },
  {
   "cell_type": "code",
   "execution_count": null,
   "id": "07b6674c-18ef-489d-8bb8-af6f7c3d7b78",
   "metadata": {},
   "outputs": [],
   "source": []
  }
 ],
 "metadata": {
  "kernelspec": {
   "display_name": "Python 3 (ipykernel)",
   "language": "python",
   "name": "python3"
  },
  "language_info": {
   "codemirror_mode": {
    "name": "ipython",
    "version": 3
   },
   "file_extension": ".py",
   "mimetype": "text/x-python",
   "name": "python",
   "nbconvert_exporter": "python",
   "pygments_lexer": "ipython3",
   "version": "3.12.7"
  }
 },
 "nbformat": 4,
 "nbformat_minor": 5
}
