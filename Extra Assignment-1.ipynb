{
 "cells": [
  {
   "cell_type": "code",
   "execution_count": null,
   "id": "25835188-ca78-451b-bb3f-45dab372786e",
   "metadata": {},
   "outputs": [],
   "source": [
    "print(\"Hope AI\")"
   ]
  },
  {
   "cell_type": "code",
   "execution_count": null,
   "id": "b96b00e1-48cb-4504-8b31-203de25ce435",
   "metadata": {},
   "outputs": [],
   "source": [
    "Name=input(\"Enter your Institute Name?\")\n",
    "print(\"Enter your Institute Name?\",Name)"
   ]
  },
  {
   "cell_type": "code",
   "execution_count": 1,
   "id": "c118c155-c7cc-45a3-9fbd-211158bfd5f9",
   "metadata": {},
   "outputs": [
    {
     "name": "stdin",
     "output_type": "stream",
     "text": [
      "Enter your Name: Yuva\n",
      "Enter your Age: 31\n",
      "Enter your school name: NSVV\n",
      "Enter you Degree: BE\n"
     ]
    },
    {
     "name": "stdout",
     "output_type": "stream",
     "text": [
      "Enter your Name: Yuva\n",
      "Enter your Age: 31\n",
      "Enter your School: NSVV\n",
      "Enter your Degree: BE\n"
     ]
    }
   ],
   "source": [
    "Name=input(\"Enter your Name:\")\n",
    "Age=input(\"Enter your Age:\")\n",
    "School=input(\"Enter your school name:\")\n",
    "Degree=input(\"Enter you Degree:\")\n",
    "print(\"Enter your Name:\",Name)\n",
    "print(\"Enter your Age:\",Age)\n",
    "print(\"Enter your School:\",School)\n",
    "print(\"Enter your Degree:\",Degree)"
   ]
  },
  {
   "cell_type": "code",
   "execution_count": 2,
   "id": "4ee13e63-277d-4761-bdfd-3f3f6c1efe5f",
   "metadata": {},
   "outputs": [
    {
     "name": "stdout",
     "output_type": "stream",
     "text": [
      "77\n"
     ]
    }
   ],
   "source": [
    "a=43\n",
    "b=34\n",
    "Add=a+b\n",
    "print(Add)"
   ]
  },
  {
   "cell_type": "code",
   "execution_count": 3,
   "id": "ebd542ba-d5b6-435a-9596-876e09246f98",
   "metadata": {},
   "outputs": [
    {
     "name": "stdout",
     "output_type": "stream",
     "text": [
      "9\n"
     ]
    }
   ],
   "source": [
    "a=43\n",
    "b=34\n",
    "Sub=a-b\n",
    "print(Sub)"
   ]
  },
  {
   "cell_type": "code",
   "execution_count": 4,
   "id": "4a00f759-01a8-4df0-8753-f163f460ff3e",
   "metadata": {},
   "outputs": [
    {
     "name": "stdout",
     "output_type": "stream",
     "text": [
      "6111\n"
     ]
    }
   ],
   "source": [
    "a=63\n",
    "b=97\n",
    "Mul=a*b\n",
    "print(Mul)"
   ]
  },
  {
   "cell_type": "code",
   "execution_count": 5,
   "id": "8939a6c0-8f34-4fc6-ad53-31b0cfffe782",
   "metadata": {},
   "outputs": [
    {
     "name": "stdout",
     "output_type": "stream",
     "text": [
      "2.4516129032258065\n"
     ]
    }
   ],
   "source": [
    "a=76\n",
    "b=31\n",
    "Division=a/b\n",
    "print(Division)"
   ]
  },
  {
   "cell_type": "code",
   "execution_count": 7,
   "id": "48c59cda-71f9-4187-9cf7-68aae9da7d36",
   "metadata": {},
   "outputs": [
    {
     "name": "stdout",
     "output_type": "stream",
     "text": [
      "2\n"
     ]
    }
   ],
   "source": [
    "a=76\n",
    "b=31\n",
    "FloorDivision=a//b\n",
    "print(FloorDivision)"
   ]
  },
  {
   "cell_type": "code",
   "execution_count": 8,
   "id": "879bece1-7938-4746-82bc-054c511b9f13",
   "metadata": {},
   "outputs": [
    {
     "name": "stdout",
     "output_type": "stream",
     "text": [
      "14\n"
     ]
    }
   ],
   "source": [
    "a=76\n",
    "b=31\n",
    "Modulo=a%b\n",
    "print(Modulo)"
   ]
  },
  {
   "cell_type": "code",
   "execution_count": 9,
   "id": "50e598bc-0ac7-4433-837a-5de53a8366fb",
   "metadata": {},
   "outputs": [
    {
     "name": "stdout",
     "output_type": "stream",
     "text": [
      "256\n"
     ]
    }
   ],
   "source": [
    "a=4\n",
    "b=4\n",
    "power=a**b\n",
    "print(power)"
   ]
  },
  {
   "cell_type": "code",
   "execution_count": null,
   "id": "536795ed-2c7f-4f8e-b4e4-9230f2e97b8f",
   "metadata": {},
   "outputs": [],
   "source": []
  }
 ],
 "metadata": {
  "kernelspec": {
   "display_name": "Python 3 (ipykernel)",
   "language": "python",
   "name": "python3"
  },
  "language_info": {
   "codemirror_mode": {
    "name": "ipython",
    "version": 3
   },
   "file_extension": ".py",
   "mimetype": "text/x-python",
   "name": "python",
   "nbconvert_exporter": "python",
   "pygments_lexer": "ipython3",
   "version": "3.12.7"
  }
 },
 "nbformat": 4,
 "nbformat_minor": 5
}
